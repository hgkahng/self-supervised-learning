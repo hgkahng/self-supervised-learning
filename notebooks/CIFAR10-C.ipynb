{
 "cells": [
  {
   "cell_type": "code",
   "execution_count": 10,
   "metadata": {},
   "outputs": [],
   "source": [
    "import os\n",
    "import sys\n",
    "import numpy as np\n",
    "import torch\n",
    "import torch.nn as nn\n",
    "from torch.utils.data import DataLoader"
   ]
  },
  {
   "cell_type": "code",
   "execution_count": 11,
   "metadata": {},
   "outputs": [],
   "source": [
    "ROOT = os.path.abspath('../')\n",
    "if ROOT not in sys.path:\n",
    "    sys.path.append(ROOT)"
   ]
  },
  {
   "cell_type": "code",
   "execution_count": 12,
   "metadata": {},
   "outputs": [],
   "source": [
    "os.environ[\"CUDA_VISIBLE_DEVICES\"] = '0'"
   ]
  },
  {
   "cell_type": "code",
   "execution_count": 13,
   "metadata": {},
   "outputs": [],
   "source": [
    "from models.backbone import ResNetBackbone\n",
    "from models.head import LinearClassifier"
   ]
  },
  {
   "cell_type": "code",
   "execution_count": 14,
   "metadata": {},
   "outputs": [],
   "source": [
    "from datasets.corrupted import CIFAR10C, CORRUPTIONS\n",
    "from datasets.transforms import TestAugment"
   ]
  },
  {
   "cell_type": "code",
   "execution_count": 15,
   "metadata": {},
   "outputs": [],
   "source": [
    "encoder = ResNetBackbone('resnet50', data='cifar10')\n",
    "classifier = LinearClassifier(encoder.out_channels, num_classes=10)"
   ]
  },
  {
   "cell_type": "code",
   "execution_count": 22,
   "metadata": {},
   "outputs": [],
   "source": [
    "CKPT = \"../checkpoints/cifar10/linear_clapp/resnet50/2020-11-10_13:46:37/ckpt.100.pth.tar\"\n",
    "CKPT = \"../checkpoints/cifar10/linear_moco/resnet50/2020-11-11_11:35:22/ckpt.best.pth.tar\"\n",
    "assert os.path.isfile(CKPT)"
   ]
  },
  {
   "cell_type": "code",
   "execution_count": 23,
   "metadata": {},
   "outputs": [],
   "source": [
    "encoder.load_weights_from_checkpoint(CKPT, key='backbone')\n",
    "classifier.load_weights_from_checkpoint(CKPT, key='classifier')"
   ]
  },
  {
   "cell_type": "code",
   "execution_count": 24,
   "metadata": {},
   "outputs": [],
   "source": [
    "net = nn.Sequential(encoder, classifier)\n",
    "net.eval();"
   ]
  },
  {
   "cell_type": "code",
   "execution_count": 25,
   "metadata": {},
   "outputs": [
    {
     "name": "stdout",
     "output_type": "stream",
     "text": [
      "CIFAR10-C (gaussian_noise): 64.10%\n",
      "CIFAR10-C (shot_noise): 71.41%\n",
      "CIFAR10-C (impulse_noise): 64.74%\n",
      "CIFAR10-C (defocus_blur): 86.95%\n",
      "CIFAR10-C (glass_blur): 65.98%\n",
      "CIFAR10-C (motion_blur): 81.13%\n",
      "CIFAR10-C (zoom_blur): 87.51%\n",
      "CIFAR10-C (snow): 82.37%\n",
      "CIFAR10-C (frost): 82.97%\n",
      "CIFAR10-C (fog): 80.06%\n",
      "CIFAR10-C (brightness): 91.01%\n",
      "CIFAR10-C (contrast): 86.20%\n",
      "CIFAR10-C (elastic_transform): 84.50%\n",
      "CIFAR10-C (pixelate): 85.39%\n",
      "CIFAR10-C (jpeg_compression): 84.64%\n",
      "CPU times: user 4min 22s, sys: 4.01 s, total: 4min 26s\n",
      "Wall time: 4min 27s\n"
     ]
    }
   ],
   "source": [
    "%%time\n",
    "\n",
    "for c in CORRUPTIONS:\n",
    "    test_trans = TestAugment(size=32, data='cifar10')\n",
    "    test_set = CIFAR10C('../data/cifar10-c', corruption=c, transform=test_trans)\n",
    "    test_loader = DataLoader(test_set, batch_size=256, shuffle=False, num_workers=4, pin_memory=False)\n",
    "    \n",
    "    num_correct = 0\n",
    "    \n",
    "    with torch.no_grad():\n",
    "        for _, batch in enumerate(test_loader):\n",
    "            \n",
    "            net.cuda()\n",
    "            x, y = batch['x'].cuda(), batch['y'].cuda()\n",
    "            logits = net(x)\n",
    "            _, pred = logits.data.max(dim=1)\n",
    "            num_correct += pred.eq(y.data).sum().item()\n",
    "    \n",
    "    acc = num_correct / len(test_set)\n",
    "    print(f\"CIFAR10-C ({c}): {acc*100:.2f}%\", end='\\n')"
   ]
  },
  {
   "cell_type": "code",
   "execution_count": 21,
   "metadata": {},
   "outputs": [
    {
     "name": "stdout",
     "output_type": "stream",
     "text": [
      "CIFAR10-C (gaussian_noise): 65.88%\n",
      "CIFAR10-C (shot_noise): 72.28%\n",
      "CIFAR10-C (impulse_noise): 65.56%\n",
      "CIFAR10-C (defocus_blur): 87.56%\n",
      "CIFAR10-C (glass_blur): 63.85%\n",
      "CIFAR10-C (motion_blur): 79.77%\n",
      "CIFAR10-C (zoom_blur): 87.70%\n",
      "CIFAR10-C (snow): 82.35%\n",
      "CIFAR10-C (frost): 83.82%\n",
      "CIFAR10-C (fog): 80.16%\n",
      "CIFAR10-C (brightness): 91.37%\n",
      "CIFAR10-C (contrast): 88.26%\n",
      "CIFAR10-C (elastic_transform): 85.05%\n",
      "CIFAR10-C (pixelate): 84.23%\n",
      "CIFAR10-C (jpeg_compression): 85.16%\n",
      "CPU times: user 4min 23s, sys: 4.17 s, total: 4min 27s\n",
      "Wall time: 4min 28s\n"
     ]
    }
   ],
   "source": [
    "%%time\n",
    "\n",
    "for c in CORRUPTIONS:\n",
    "    test_trans = TestAugment(size=32, data='cifar10')\n",
    "    test_set = CIFAR10C('../data/cifar10-c', corruption=c, transform=test_trans)\n",
    "    test_loader = DataLoader(test_set, batch_size=256, shuffle=False, num_workers=4, pin_memory=False)\n",
    "    \n",
    "    num_correct = 0\n",
    "    \n",
    "    with torch.no_grad():\n",
    "        for _, batch in enumerate(test_loader):\n",
    "            \n",
    "            net.cuda()\n",
    "            x, y = batch['x'].cuda(), batch['y'].cuda()\n",
    "            logits = net(x)\n",
    "            _, pred = logits.data.max(dim=1)\n",
    "            num_correct += pred.eq(y.data).sum().item()\n",
    "    \n",
    "    acc = num_correct / len(test_set)\n",
    "    print(f\"CIFAR10-C ({c}): {acc*100:.2f}%\", end='\\n')"
   ]
  },
  {
   "cell_type": "code",
   "execution_count": null,
   "metadata": {},
   "outputs": [],
   "source": []
  }
 ],
 "metadata": {
  "kernelspec": {
   "display_name": "Python 3",
   "language": "python",
   "name": "python3"
  },
  "language_info": {
   "codemirror_mode": {
    "name": "ipython",
    "version": 3
   },
   "file_extension": ".py",
   "mimetype": "text/x-python",
   "name": "python",
   "nbconvert_exporter": "python",
   "pygments_lexer": "ipython3",
   "version": "3.8.6"
  }
 },
 "nbformat": 4,
 "nbformat_minor": 4
}
