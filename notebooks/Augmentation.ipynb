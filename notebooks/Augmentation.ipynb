{
 "cells": [
  {
   "cell_type": "code",
   "execution_count": 1,
   "metadata": {},
   "outputs": [],
   "source": [
    "import os\n",
    "import sys\n",
    "import glob\n",
    "import pathlib\n",
    "\n",
    "import cv2\n",
    "import torch\n",
    "import matplotlib.pyplot as plt\n",
    "import PIL\n",
    "\n",
    "from PIL import Image\n",
    "from torchvision.transforms import RandomCrop, RandomResizedCrop\n",
    "from torchvision.transforms import RandomHorizontalFlip, ColorJitter\n",
    "from torchvision.transforms import Compose, RandomGrayscale, RandomApply"
   ]
  },
  {
   "cell_type": "code",
   "execution_count": 2,
   "metadata": {},
   "outputs": [],
   "source": [
    "ROOT = os.path.abspath('../')\n",
    "if ROOT not in sys.path:\n",
    "    sys.path.append(ROOT)"
   ]
  },
  {
   "cell_type": "code",
   "execution_count": 3,
   "metadata": {},
   "outputs": [],
   "source": [
    "from datasets.transforms.torchvision import *"
   ]
  },
  {
   "cell_type": "markdown",
   "metadata": {},
   "source": [
    "# 1. Load Images"
   ]
  },
  {
   "cell_type": "code",
   "execution_count": 4,
   "metadata": {},
   "outputs": [
    {
     "name": "stdout",
     "output_type": "stream",
     "text": [
      "Sub-directories: cars, cats, dogs, etc, flowers, places\n"
     ]
    }
   ],
   "source": [
    "IMG_ROOT = os.path.join(ROOT, \"data/images/\")\n",
    "if os.path.isdir(IMG_ROOT):\n",
    "    print(\"Sub-directories:\", end=' ')\n",
    "    print(*sorted(os.listdir(IMG_ROOT)), sep=', ')"
   ]
  },
  {
   "cell_type": "code",
   "execution_count": 5,
   "metadata": {},
   "outputs": [
    {
     "name": "stdout",
     "output_type": "stream",
     "text": [
      "#. images:  33\n"
     ]
    }
   ],
   "source": [
    "jpg_files = glob.glob(os.path.join(IMG_ROOT, \"**/*.jpg\"), recursive=True)\n",
    "print(\"#. images: \", len(jpg_files))"
   ]
  },
  {
   "cell_type": "code",
   "execution_count": 6,
   "metadata": {},
   "outputs": [],
   "source": [
    "NUM_TRIALS = 100"
   ]
  },
  {
   "cell_type": "code",
   "execution_count": 7,
   "metadata": {},
   "outputs": [],
   "source": [
    "SIZE = (512, 512)"
   ]
  },
  {
   "cell_type": "code",
   "execution_count": 8,
   "metadata": {},
   "outputs": [],
   "source": [
    "weak_augment = Compose([\n",
    "    RandomResizedCrop(SIZE, scale=(0.2, 1.0)),\n",
    "    RandomApply([ColorJitter(0.4, 0.4, 0.4, 0.1)], p=0.8),\n",
    "    RandomGrayscale(p=0.2),\n",
    "    RandomHorizontalFlip(0.5),\n",
    "])"
   ]
  },
  {
   "cell_type": "code",
   "execution_count": 9,
   "metadata": {},
   "outputs": [],
   "source": [
    "strong_augment = Compose([\n",
    "    RandomResizedCrop(SIZE, scale=(0.2, 1.0)),\n",
    "    RandomApply([ColorJitter(0.4, 0.4, 0.4, 0.1)], p=0.8),\n",
    "    RandAugmentTv(k=5),\n",
    "    RandomGrayscale(p=0.2),\n",
    "    RandomHorizontalFlip(0.5),\n",
    "])"
   ]
  },
  {
   "cell_type": "code",
   "execution_count": 10,
   "metadata": {},
   "outputs": [
    {
     "name": "stdout",
     "output_type": "stream",
     "text": [
      ".................................\n",
      "CPU times: user 2min 59s, sys: 477 ms, total: 3min\n",
      "Wall time: 3min\n"
     ]
    }
   ],
   "source": [
    "%%time\n",
    "\n",
    "for jpg_file in jpg_files:\n",
    "    \n",
    "    # Open image\n",
    "    img = Image.open(jpg_file)\n",
    "    \n",
    "    for t in range(NUM_TRIALS + 1):\n",
    "        \n",
    "        write_dir, file_name = os.path.split(jpg_file)\n",
    "        base_name = os.path.splitext(file_name)[0]\n",
    "        write_dir = os.path.join(write_dir, base_name)\n",
    "        os.makedirs(write_dir, exist_ok=True)\n",
    "        \n",
    "        # Weak augmentation\n",
    "        weak_dir = os.path.join(write_dir, 'weak')\n",
    "        weak_file = os.path.join(weak_dir, f\"{t:03d}.jpg\")\n",
    "        os.makedirs(weak_dir, exist_ok=True)\n",
    "        weak = weak_augment(img)\n",
    "        weak.save(weak_file, dpi=(300, 300))\n",
    "        \n",
    "        # Strong augmentation\n",
    "        strong_dir = os.path.join(write_dir, 'strong')\n",
    "        strong_file = os.path.join(strong_dir, f\"{t:03d}.jpg\")\n",
    "        os.makedirs(strong_dir, exist_ok=True)\n",
    "        strong = strong_augment(img)\n",
    "        strong.save(strong_file, dpi=(300, 300))\n",
    "        \n",
    "        # Random crop\n",
    "        crop_dir = os.path.join(write_dir, 'crop')\n",
    "        crop_file = os.path.join(crop_dir, f\"{t:03d}.jpg\")\n",
    "        os.makedirs(crop_dir, exist_ok=True)\n",
    "        crop = RandomResizedCrop(SIZE, scale=(0.5, 1.0), ratio=(1., 1.))(img)\n",
    "        crop.save(crop_file, dpi=(300, 300))\n",
    "    \n",
    "    print('.', end='')\n",
    "\n",
    "print('')"
   ]
  },
  {
   "cell_type": "code",
   "execution_count": null,
   "metadata": {},
   "outputs": [],
   "source": []
  }
 ],
 "metadata": {
  "kernelspec": {
   "display_name": "Python 3",
   "language": "python",
   "name": "python3"
  },
  "language_info": {
   "codemirror_mode": {
    "name": "ipython",
    "version": 3
   },
   "file_extension": ".py",
   "mimetype": "text/x-python",
   "name": "python",
   "nbconvert_exporter": "python",
   "pygments_lexer": "ipython3",
   "version": "3.8.6"
  }
 },
 "nbformat": 4,
 "nbformat_minor": 4
}
